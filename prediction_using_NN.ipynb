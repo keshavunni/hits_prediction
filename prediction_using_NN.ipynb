{
 "cells": [
  {
   "cell_type": "markdown",
   "metadata": {},
   "source": [
    "This notebook is an implementation of the third place result in the Rossman Kaggle competition as detailed in Guo/Berkhahn's [Entity Embeddings of Categorical Variables](https://arxiv.org/abs/1604.06737).\n"
   ]
  },
  {
   "cell_type": "code",
   "execution_count": 1,
   "metadata": {},
   "outputs": [],
   "source": [
    "%matplotlib inline\n",
    "%reload_ext autoreload\n",
    "%autoreload 2"
   ]
  },
  {
   "cell_type": "code",
   "execution_count": 15,
   "metadata": {},
   "outputs": [],
   "source": [
    "from fastai.structured import *\n",
    "from fastai.column_data import *\n",
    "np.set_printoptions(threshold=50, edgeitems=20)\n",
    "import pandas as pd\n",
    "from sklearn.metrics import mean_squared_error\n",
    "from math import sqrt\n",
    "\n",
    "PATH='data/'"
   ]
  },
  {
   "cell_type": "code",
   "execution_count": 3,
   "metadata": {
    "scrolled": true
   },
   "outputs": [
    {
     "name": "stderr",
     "output_type": "stream",
     "text": [
      "/home/ubuntu/anaconda3/envs/fastai/lib/python3.6/site-packages/pandas/io/feather_format.py:112: FutureWarning: `nthreads` argument is deprecated, pass `use_threads` instead\n",
      "  return feather.read_dataframe(path, nthreads=nthreads)\n"
     ]
    },
    {
     "data": {
      "text/plain": [
       "(0, 10.003955841064453)"
      ]
     },
     "execution_count": 3,
     "metadata": {},
     "output_type": "execute_result"
    }
   ],
   "source": [
    "df = pd.read_feather(f'{PATH}train')\n",
    "df_test = pd.read_feather(f'{PATH}test')\n",
    "df.set_index('row_num', inplace=True)\n",
    "df_test.set_index('row_num', inplace=True)\n",
    "yl = np.load(f'{PATH}yl.npy')\n",
    "emb_szs = np.load(f'{PATH}emb_szs.npy')\n",
    "emb_szs1 = [(c[0].item(),c[1].item()) for c in emb_szs]\n",
    "max_log_y = np.max(yl)\n",
    "y_range = (0, max_log_y*1.2)\n",
    "y_range"
   ]
  },
  {
   "cell_type": "code",
   "execution_count": 4,
   "metadata": {},
   "outputs": [
    {
     "data": {
      "text/plain": [
       "array([[    7,     4],\n",
       "       [    8,     4],\n",
       "       [   16,     8],\n",
       "       [    8,     4],\n",
       "       [  138,    50],\n",
       "       [21880,    50],\n",
       "       [12738,    50],\n",
       "       [12578,    50],\n",
       "       [ 7045,    50],\n",
       "       [ 4351,    50]])"
      ]
     },
     "execution_count": 4,
     "metadata": {},
     "output_type": "execute_result"
    }
   ],
   "source": [
    "emb_szs"
   ]
  },
  {
   "cell_type": "code",
   "execution_count": 5,
   "metadata": {},
   "outputs": [
    {
     "data": {
      "text/plain": [
       "123847"
      ]
     },
     "execution_count": 5,
     "metadata": {},
     "output_type": "execute_result"
    }
   ],
   "source": [
    "n = len(df)\n",
    "#train_ratio = 0.75\n",
    "train_ratio = 0.8\n",
    "train_size = int(n * train_ratio); train_size\n",
    "val_idx = list(range(train_size, len(df)))\n",
    "len(val_idx)"
   ]
  },
  {
   "cell_type": "code",
   "execution_count": 6,
   "metadata": {},
   "outputs": [
    {
     "data": {
      "text/plain": [
       "(619235, 13)"
      ]
     },
     "execution_count": 6,
     "metadata": {},
     "output_type": "execute_result"
    }
   ],
   "source": [
    "cat_vars = ['locale', 'day_of_week', 'agent_id', 'traffic_type', 'entry_page', 'path_1',\n",
    "    'path_2', 'path_3', 'path_4', 'path_5']\n",
    "\n",
    "contin_vars = ['hour_of_day', 'session_duration', 'no_of_ids']\n",
    "df.shape"
   ]
  },
  {
   "cell_type": "code",
   "execution_count": 7,
   "metadata": {},
   "outputs": [],
   "source": [
    "# def inv_y(a): return np.exp(a)\n",
    "\n",
    "# def exp_rmspe(y_pred, targ):\n",
    "#     targ = inv_y(targ)\n",
    "#     pct_var = (targ - inv_y(y_pred))/targ\n",
    "#     return math.sqrt((pct_var**2).mean())"
   ]
  },
  {
   "cell_type": "code",
   "execution_count": 37,
   "metadata": {},
   "outputs": [],
   "source": [
    "def inv_y(a): return np.exp(a)\n",
    "def rmse(y_pred, targ):\n",
    "    return sqrt(mean_squared_error(inv_y(targ), inv_y(y_pred)))"
   ]
  },
  {
   "cell_type": "code",
   "execution_count": 38,
   "metadata": {},
   "outputs": [],
   "source": [
    "md = ColumnarModelData.from_data_frame(PATH, val_idx, df, yl, cat_flds=cat_vars, bs=128,test_df=df_test)"
   ]
  },
  {
   "cell_type": "code",
   "execution_count": 39,
   "metadata": {},
   "outputs": [],
   "source": [
    "m = md.get_learner(emb_szs1, len(df.columns)-len(cat_vars),\n",
    "                   0.04, 1, [1000,500], [0.001,0.01], y_range=y_range)\n",
    "lr = 1e-3"
   ]
  },
  {
   "cell_type": "code",
   "execution_count": 40,
   "metadata": {
    "scrolled": true
   },
   "outputs": [
    {
     "data": {
      "text/plain": [
       "<bound method StructuredLearner.summary of MixedInputModel(\n",
       "  (embs): ModuleList(\n",
       "    (0): Embedding(7, 4)\n",
       "    (1): Embedding(8, 4)\n",
       "    (2): Embedding(16, 8)\n",
       "    (3): Embedding(8, 4)\n",
       "    (4): Embedding(138, 50)\n",
       "    (5): Embedding(21880, 50)\n",
       "    (6): Embedding(12738, 50)\n",
       "    (7): Embedding(12578, 50)\n",
       "    (8): Embedding(7045, 50)\n",
       "    (9): Embedding(4351, 50)\n",
       "  )\n",
       "  (lins): ModuleList(\n",
       "    (0): Linear(in_features=323, out_features=1000, bias=True)\n",
       "    (1): Linear(in_features=1000, out_features=500, bias=True)\n",
       "  )\n",
       "  (bns): ModuleList(\n",
       "    (0): BatchNorm1d(1000, eps=1e-05, momentum=0.1, affine=True)\n",
       "    (1): BatchNorm1d(500, eps=1e-05, momentum=0.1, affine=True)\n",
       "  )\n",
       "  (outp): Linear(in_features=500, out_features=1, bias=True)\n",
       "  (emb_drop): Dropout(p=0.04)\n",
       "  (drops): ModuleList(\n",
       "    (0): Dropout(p=0.001)\n",
       "    (1): Dropout(p=0.01)\n",
       "  )\n",
       "  (bn): BatchNorm1d(3, eps=1e-05, momentum=0.1, affine=True)\n",
       ")>"
      ]
     },
     "execution_count": 40,
     "metadata": {},
     "output_type": "execute_result"
    }
   ],
   "source": [
    "m.summary"
   ]
  },
  {
   "cell_type": "code",
   "execution_count": 41,
   "metadata": {},
   "outputs": [
    {
     "data": {
      "application/vnd.jupyter.widget-view+json": {
       "model_id": "e749a6bae1aa4073a7cca43dd91d33e0",
       "version_major": 2,
       "version_minor": 0
      },
      "text/plain": [
       "HBox(children=(IntProgress(value=0, description='Epoch', max=1), HTML(value='')))"
      ]
     },
     "metadata": {},
     "output_type": "display_data"
    },
    {
     "name": "stdout",
     "output_type": "stream",
     "text": [
      " 60%|█████▉    | 2321/3871 [00:19<00:12, 121.81it/s, loss=1.36] "
     ]
    }
   ],
   "source": [
    "m.lr_find()"
   ]
  },
  {
   "cell_type": "code",
   "execution_count": 12,
   "metadata": {},
   "outputs": [
    {
     "data": {
      "image/png": "[encoded data removed]",
      "text/plain": [
       "<Figure size 432x288 with 1 Axes>"
      ]
     },
     "metadata": {
      "needs_background": "light"
     },
     "output_type": "display_data"
    }
   ],
   "source": [
    "m.sched.plot()"
   ]
  },
  {
   "cell_type": "markdown",
   "metadata": {},
   "source": [
    "### Sample"
   ]
  },
  {
   "cell_type": "code",
   "execution_count": 42,
   "metadata": {},
   "outputs": [
    {
     "data": {
      "application/vnd.jupyter.widget-view+json": {
       "model_id": "c160e605cc044e97b1b171a3f811a1c4",
       "version_major": 2,
       "version_minor": 0
      },
      "text/plain": [
       "HBox(children=(IntProgress(value=0, description='Epoch', max=3), HTML(value='')))"
      ]
     },
     "metadata": {},
     "output_type": "display_data"
    },
    {
     "name": "stdout",
     "output_type": "stream",
     "text": [
      "epoch      trn_loss   val_loss   rmse                           \n",
      "    0      0.440407   0.410438   28.335683 \n",
      "    1      0.336534   0.3288     28.267697                      \n",
      "    2      0.31161    0.304097   27.196677                      \n"
     ]
    },
    {
     "data": {
      "text/plain": [
       "[array([0.3041]), 27.19667695752731]"
      ]
     },
     "execution_count": 42,
     "metadata": {},
     "output_type": "execute_result"
    }
   ],
   "source": [
    "lr = 5e-5\n",
    "m.fit(lr, 3, metrics=[rmse])"
   ]
  },
  {
   "cell_type": "code",
   "execution_count": 43,
   "metadata": {},
   "outputs": [
    {
     "data": {
      "application/vnd.jupyter.widget-view+json": {
       "model_id": "bcb2e2313a19433da6d2e38482c40929",
       "version_major": 2,
       "version_minor": 0
      },
      "text/plain": [
       "HBox(children=(IntProgress(value=0, description='Epoch', max=3), HTML(value='')))"
      ]
     },
     "metadata": {},
     "output_type": "display_data"
    },
    {
     "name": "stdout",
     "output_type": "stream",
     "text": [
      "epoch      trn_loss   val_loss   rmse                           \n",
      "    0      0.281597   0.297529   27.568235 \n",
      "    1      0.273765   0.294064   27.296012                      \n",
      "    2      0.277129   0.292254   27.423306                      \n"
     ]
    },
    {
     "data": {
      "text/plain": [
       "[array([0.29225]), 27.423306067007207]"
      ]
     },
     "execution_count": 43,
     "metadata": {},
     "output_type": "execute_result"
    }
   ],
   "source": [
    "m.fit(lr, 3, cycle_len=1, metrics=[rmse])"
   ]
  },
  {
   "cell_type": "code",
   "execution_count": 44,
   "metadata": {},
   "outputs": [
    {
     "data": {
      "application/vnd.jupyter.widget-view+json": {
       "model_id": "b66685c8e50b404f83f27b878c33fd5c",
       "version_major": 2,
       "version_minor": 0
      },
      "text/plain": [
       "HBox(children=(IntProgress(value=0, description='Epoch', max=3), HTML(value='')))"
      ]
     },
     "metadata": {},
     "output_type": "display_data"
    },
    {
     "name": "stdout",
     "output_type": "stream",
     "text": [
      "epoch      trn_loss   val_loss   rmse                           \n",
      "    0      0.266088   0.291638   27.336    \n",
      "    1      0.263574   0.291026   27.327075                      \n",
      "    2      0.252886   0.29078    27.390394                      \n"
     ]
    },
    {
     "data": {
      "text/plain": [
       "[array([0.29078]), 27.390394414438]"
      ]
     },
     "execution_count": 44,
     "metadata": {},
     "output_type": "execute_result"
    }
   ],
   "source": [
    "m.fit(lr, 3, cycle_len=1, metrics=[rmse])"
   ]
  },
  {
   "cell_type": "code",
   "execution_count": 45,
   "metadata": {},
   "outputs": [],
   "source": [
    "m.save('val0')\n",
    "m.load('val0')"
   ]
  },
  {
   "cell_type": "code",
   "execution_count": 46,
   "metadata": {},
   "outputs": [],
   "source": [
    "pred_test=m.predict(True)"
   ]
  },
  {
   "cell_type": "code",
   "execution_count": 47,
   "metadata": {
    "collapsed": true
   },
   "outputs": [
    {
     "data": {
      "text/plain": [
       "array([[ 22.01427],\n",
       "       [ 57.44089],\n",
       "       [  2.62322],\n",
       "       [ 61.63913],\n",
       "       [ 21.66468],\n",
       "       [  9.79949],\n",
       "       [  6.73199],\n",
       "       [104.39974],\n",
       "       [ 10.06217],\n",
       "       [ 25.73559],\n",
       "       [  3.02582],\n",
       "       [ 18.38167],\n",
       "       [  5.12318],\n",
       "       [  1.18773],\n",
       "       [  3.33489],\n",
       "       [ 12.84537],\n",
       "       [ 10.43955],\n",
       "       [  3.46846],\n",
       "       [  3.16309],\n",
       "       [ 20.10306],\n",
       "       ...,\n",
       "       [ 42.73017],\n",
       "       [ 16.15582],\n",
       "       [  7.82976],\n",
       "       [  4.12263],\n",
       "       [ 24.42853],\n",
       "       [ 12.27954],\n",
       "       [ 27.52805],\n",
       "       [ 21.02433],\n",
       "       [ 12.69996],\n",
       "       [ 10.67869],\n",
       "       [  4.44839],\n",
       "       [  8.27257],\n",
       "       [  3.50362],\n",
       "       [  8.79419],\n",
       "       [ 20.25055],\n",
       "       [ 16.07931],\n",
       "       [  4.15148],\n",
       "       [ 20.36464],\n",
       "       [  7.22816],\n",
       "       [ 11.56828]], dtype=float32)"
      ]
     },
     "execution_count": 47,
     "metadata": {},
     "output_type": "execute_result"
    }
   ],
   "source": [
    "pred_test = np.exp(pred_test)\n",
    "pred_test"
   ]
  },
  {
   "cell_type": "code",
   "execution_count": 49,
   "metadata": {},
   "outputs": [],
   "source": [
    "df_test['hits']=pred_test"
   ]
  },
  {
   "cell_type": "code",
   "execution_count": 50,
   "metadata": {},
   "outputs": [
    {
     "data": {
      "text/html": [
       "<div>\n",
       "<style scoped>\n",
       "    .dataframe tbody tr th:only-of-type {\n",
       "        vertical-align: middle;\n",
       "    }\n",
       "\n",
       "    .dataframe tbody tr th {\n",
       "        vertical-align: top;\n",
       "    }\n",
       "\n",
       "    .dataframe thead th {\n",
       "        text-align: right;\n",
       "    }\n",
       "</style>\n",
       "<table border=\"1\" class=\"dataframe\">\n",
       "  <thead>\n",
       "    <tr style=\"text-align: right;\">\n",
       "      <th></th>\n",
       "      <th>row_num</th>\n",
       "      <th>locale</th>\n",
       "      <th>day_of_week</th>\n",
       "      <th>agent_id</th>\n",
       "      <th>traffic_type</th>\n",
       "      <th>entry_page</th>\n",
       "      <th>path_1</th>\n",
       "      <th>path_2</th>\n",
       "      <th>path_3</th>\n",
       "      <th>path_4</th>\n",
       "      <th>path_5</th>\n",
       "      <th>hour_of_day</th>\n",
       "      <th>session_duration</th>\n",
       "      <th>no_of_ids</th>\n",
       "      <th>hits</th>\n",
       "    </tr>\n",
       "  </thead>\n",
       "  <tbody>\n",
       "    <tr>\n",
       "      <th>0</th>\n",
       "      <td>988681</td>\n",
       "      <td>6</td>\n",
       "      <td>1</td>\n",
       "      <td>2</td>\n",
       "      <td>5</td>\n",
       "      <td>2</td>\n",
       "      <td>3541</td>\n",
       "      <td>2</td>\n",
       "      <td>1</td>\n",
       "      <td>1</td>\n",
       "      <td>1</td>\n",
       "      <td>0.562680</td>\n",
       "      <td>2.675364</td>\n",
       "      <td>-0.064040</td>\n",
       "      <td>22.014267</td>\n",
       "    </tr>\n",
       "    <tr>\n",
       "      <th>1</th>\n",
       "      <td>988666</td>\n",
       "      <td>3</td>\n",
       "      <td>4</td>\n",
       "      <td>10</td>\n",
       "      <td>1</td>\n",
       "      <td>84</td>\n",
       "      <td>2</td>\n",
       "      <td>2104</td>\n",
       "      <td>8152</td>\n",
       "      <td>1</td>\n",
       "      <td>1</td>\n",
       "      <td>0.414898</td>\n",
       "      <td>1.915716</td>\n",
       "      <td>0.947697</td>\n",
       "      <td>57.440891</td>\n",
       "    </tr>\n",
       "    <tr>\n",
       "      <th>2</th>\n",
       "      <td>988665</td>\n",
       "      <td>4</td>\n",
       "      <td>7</td>\n",
       "      <td>10</td>\n",
       "      <td>4</td>\n",
       "      <td>3</td>\n",
       "      <td>12935</td>\n",
       "      <td>2</td>\n",
       "      <td>1</td>\n",
       "      <td>1</td>\n",
       "      <td>1</td>\n",
       "      <td>0.414898</td>\n",
       "      <td>-0.215244</td>\n",
       "      <td>-0.064040</td>\n",
       "      <td>2.623225</td>\n",
       "    </tr>\n",
       "    <tr>\n",
       "      <th>3</th>\n",
       "      <td>988664</td>\n",
       "      <td>3</td>\n",
       "      <td>2</td>\n",
       "      <td>0</td>\n",
       "      <td>1</td>\n",
       "      <td>1</td>\n",
       "      <td>2</td>\n",
       "      <td>2292</td>\n",
       "      <td>2291</td>\n",
       "      <td>1</td>\n",
       "      <td>1</td>\n",
       "      <td>0.858246</td>\n",
       "      <td>3.088073</td>\n",
       "      <td>0.947697</td>\n",
       "      <td>61.639130</td>\n",
       "    </tr>\n",
       "    <tr>\n",
       "      <th>4</th>\n",
       "      <td>988663</td>\n",
       "      <td>3</td>\n",
       "      <td>5</td>\n",
       "      <td>10</td>\n",
       "      <td>2</td>\n",
       "      <td>2</td>\n",
       "      <td>4046</td>\n",
       "      <td>2</td>\n",
       "      <td>5283</td>\n",
       "      <td>1</td>\n",
       "      <td>1</td>\n",
       "      <td>1.006029</td>\n",
       "      <td>-0.169204</td>\n",
       "      <td>0.947697</td>\n",
       "      <td>21.664677</td>\n",
       "    </tr>\n",
       "  </tbody>\n",
       "</table>\n",
       "</div>"
      ],
      "text/plain": [
       "   row_num  locale  day_of_week  agent_id  traffic_type  entry_page  path_1  \\\n",
       "0   988681       6            1         2             5           2    3541   \n",
       "1   988666       3            4        10             1          84       2   \n",
       "2   988665       4            7        10             4           3   12935   \n",
       "3   988664       3            2         0             1           1       2   \n",
       "4   988663       3            5        10             2           2    4046   \n",
       "\n",
       "   path_2  path_3  path_4  path_5  hour_of_day  session_duration  no_of_ids  \\\n",
       "0       2       1       1       1     0.562680          2.675364  -0.064040   \n",
       "1    2104    8152       1       1     0.414898          1.915716   0.947697   \n",
       "2       2       1       1       1     0.414898         -0.215244  -0.064040   \n",
       "3    2292    2291       1       1     0.858246          3.088073   0.947697   \n",
       "4       2    5283       1       1     1.006029         -0.169204   0.947697   \n",
       "\n",
       "        hits  \n",
       "0  22.014267  \n",
       "1  57.440891  \n",
       "2   2.623225  \n",
       "3  61.639130  \n",
       "4  21.664677  "
      ]
     },
     "execution_count": 50,
     "metadata": {},
     "output_type": "execute_result"
    }
   ],
   "source": [
    "csv_fn=f'{PATH}tmp/sub.csv'\n",
    "df_test.reset_index(inplace=True)\n",
    "df_test.head()"
   ]
  },
  {
   "cell_type": "code",
   "execution_count": 52,
   "metadata": {},
   "outputs": [
    {
     "data": {
      "text/html": [
       "<a href='data/trivago/tmp/sub.csv' target='_blank'>data/trivago/tmp/sub.csv</a><br>"
      ],
      "text/plain": [
       "/home/ubuntu/fastai/courses/dl1/data/trivago/tmp/sub.csv"
      ]
     },
     "execution_count": 52,
     "metadata": {},
     "output_type": "execute_result"
    }
   ],
   "source": [
    "df_test[['row_num','hits']].to_csv(csv_fn, index=False)\n",
    "FileLink(csv_fn)"
   ]
  },
  {
   "cell_type": "code",
   "execution_count": null,
   "metadata": {},
   "outputs": [],
   "source": []
  }
 ],
 "metadata": {
  "anaconda-cloud": {},
  "kernelspec": {
   "display_name": "Python [conda env:fastai]",
   "language": "python",
   "name": "conda-env-fastai-py"
  },
  "language_info": {
   "codemirror_mode": {
    "name": "ipython",
    "version": 3
   },
   "file_extension": ".py",
   "mimetype": "text/x-python",
   "name": "python",
   "nbconvert_exporter": "python",
   "pygments_lexer": "ipython3",
   "version": "3.6.6"
  },
  "toc": {
   "colors": {
    "hover_highlight": "#DAA520",
    "navigate_num": "#000000",
    "navigate_text": "#333333",
    "running_highlight": "#FF0000",
    "selected_highlight": "#FFD700",
    "sidebar_border": "#EEEEEE",
    "wrapper_background": "#FFFFFF"
   },
   "moveMenuLeft": true,
   "nav_menu": {
    "height": "173px",
    "width": "251px"
   },
   "navigate_menu": true,
   "number_sections": true,
   "sideBar": true,
   "threshold": 4,
   "toc_cell": false,
   "toc_section_display": "block",
   "toc_window_display": false,
   "widenNotebook": false
  }
 },
 "nbformat": 4,
 "nbformat_minor": 2
}
