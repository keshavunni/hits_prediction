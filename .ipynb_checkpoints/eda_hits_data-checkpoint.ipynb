{
 "cells": [
  {
   "cell_type": "code",
   "execution_count": 2,
   "metadata": {},
   "outputs": [],
   "source": [
    "import pandas as pd\n",
    "import matplotlib.pyplot as plt\n",
    "from sklearn.preprocessing import LabelEncoder\n",
    "import numpy as np\n",
    "import operator\n",
    "df = pd.read_csv(\"data/hits_data.csv\",delimiter=\";\", \n",
    "                 #index_col=\"row_num\"\n",
    "                )"
   ]
  },
  {
   "cell_type": "code",
   "execution_count": 3,
   "metadata": {},
   "outputs": [
    {
     "name": "stdout",
     "output_type": "stream",
     "text": [
      "(988681, 10)\n"
     ]
    },
    {
     "data": {
      "text/html": [
       "<div>\n",
       "<style scoped>\n",
       "    .dataframe tbody tr th:only-of-type {\n",
       "        vertical-align: middle;\n",
       "    }\n",
       "\n",
       "    .dataframe tbody tr th {\n",
       "        vertical-align: top;\n",
       "    }\n",
       "\n",
       "    .dataframe thead th {\n",
       "        text-align: right;\n",
       "    }\n",
       "</style>\n",
       "<table border=\"1\" class=\"dataframe\">\n",
       "  <thead>\n",
       "    <tr style=\"text-align: right;\">\n",
       "      <th></th>\n",
       "      <th>row_num</th>\n",
       "      <th>locale</th>\n",
       "      <th>day_of_week</th>\n",
       "      <th>hour_of_day</th>\n",
       "      <th>agent_id</th>\n",
       "      <th>entry_page</th>\n",
       "      <th>path_id_set</th>\n",
       "      <th>traffic_type</th>\n",
       "      <th>session_durantion</th>\n",
       "      <th>hits</th>\n",
       "    </tr>\n",
       "  </thead>\n",
       "  <tbody>\n",
       "    <tr>\n",
       "      <th>0</th>\n",
       "      <td>988681</td>\n",
       "      <td>L6</td>\n",
       "      <td>Monday</td>\n",
       "      <td>17</td>\n",
       "      <td>1</td>\n",
       "      <td>2111</td>\n",
       "      <td>31672;0</td>\n",
       "      <td>6</td>\n",
       "      <td>7037</td>\n",
       "      <td>\\N</td>\n",
       "    </tr>\n",
       "    <tr>\n",
       "      <th>1</th>\n",
       "      <td>988680</td>\n",
       "      <td>L2</td>\n",
       "      <td>Thursday</td>\n",
       "      <td>22</td>\n",
       "      <td>10</td>\n",
       "      <td>2113</td>\n",
       "      <td>31965;0</td>\n",
       "      <td>2</td>\n",
       "      <td>49</td>\n",
       "      <td>14</td>\n",
       "    </tr>\n",
       "    <tr>\n",
       "      <th>2</th>\n",
       "      <td>988679</td>\n",
       "      <td>L4</td>\n",
       "      <td>Saturday</td>\n",
       "      <td>21</td>\n",
       "      <td>2</td>\n",
       "      <td>2100</td>\n",
       "      <td>0;78464</td>\n",
       "      <td>1</td>\n",
       "      <td>1892</td>\n",
       "      <td>14</td>\n",
       "    </tr>\n",
       "    <tr>\n",
       "      <th>3</th>\n",
       "      <td>988678</td>\n",
       "      <td>L3</td>\n",
       "      <td>Saturday</td>\n",
       "      <td>19</td>\n",
       "      <td>8</td>\n",
       "      <td>2113</td>\n",
       "      <td>51462</td>\n",
       "      <td>6</td>\n",
       "      <td>0</td>\n",
       "      <td>1</td>\n",
       "    </tr>\n",
       "    <tr>\n",
       "      <th>4</th>\n",
       "      <td>988677</td>\n",
       "      <td>L2</td>\n",
       "      <td>Tuesday</td>\n",
       "      <td>6</td>\n",
       "      <td>10</td>\n",
       "      <td>2116</td>\n",
       "      <td>31931;0</td>\n",
       "      <td>1</td>\n",
       "      <td>2</td>\n",
       "      <td>3</td>\n",
       "    </tr>\n",
       "  </tbody>\n",
       "</table>\n",
       "</div>"
      ],
      "text/plain": [
       "   row_num locale day_of_week  hour_of_day  agent_id  entry_page path_id_set  \\\n",
       "0   988681     L6      Monday           17         1        2111     31672;0   \n",
       "1   988680     L2    Thursday           22        10        2113     31965;0   \n",
       "2   988679     L4    Saturday           21         2        2100     0;78464   \n",
       "3   988678     L3    Saturday           19         8        2113       51462   \n",
       "4   988677     L2     Tuesday            6        10        2116     31931;0   \n",
       "\n",
       "   traffic_type session_durantion hits  \n",
       "0             6              7037   \\N  \n",
       "1             2                49   14  \n",
       "2             1              1892   14  \n",
       "3             6                 0    1  \n",
       "4             1                 2    3  "
      ]
     },
     "execution_count": 3,
     "metadata": {},
     "output_type": "execute_result"
    }
   ],
   "source": [
    "print(df.shape)\n",
    "df.head()"
   ]
  },
  {
   "cell_type": "code",
   "execution_count": 4,
   "metadata": {},
   "outputs": [
    {
     "data": {
      "text/plain": [
       "row_num                 0\n",
       "locale                  0\n",
       "day_of_week             0\n",
       "hour_of_day             0\n",
       "agent_id                0\n",
       "entry_page              0\n",
       "path_id_set          4889\n",
       "traffic_type            0\n",
       "session_durantion       0\n",
       "hits                    0\n",
       "dtype: int64"
      ]
     },
     "execution_count": 4,
     "metadata": {},
     "output_type": "execute_result"
    }
   ],
   "source": [
    "df.isnull().sum()"
   ]
  },
  {
   "cell_type": "code",
   "execution_count": 5,
   "metadata": {},
   "outputs": [],
   "source": [
    "train = df[df['hits']!=\"\\\\N\"]\n",
    "test = df[df['hits']==\"\\\\N\"]"
   ]
  },
  {
   "cell_type": "code",
   "execution_count": 6,
   "metadata": {},
   "outputs": [
    {
     "name": "stdout",
     "output_type": "stream",
     "text": [
      "(619235, 10)\n"
     ]
    },
    {
     "data": {
      "text/html": [
       "<div>\n",
       "<style scoped>\n",
       "    .dataframe tbody tr th:only-of-type {\n",
       "        vertical-align: middle;\n",
       "    }\n",
       "\n",
       "    .dataframe tbody tr th {\n",
       "        vertical-align: top;\n",
       "    }\n",
       "\n",
       "    .dataframe thead th {\n",
       "        text-align: right;\n",
       "    }\n",
       "</style>\n",
       "<table border=\"1\" class=\"dataframe\">\n",
       "  <thead>\n",
       "    <tr style=\"text-align: right;\">\n",
       "      <th></th>\n",
       "      <th>row_num</th>\n",
       "      <th>locale</th>\n",
       "      <th>day_of_week</th>\n",
       "      <th>hour_of_day</th>\n",
       "      <th>agent_id</th>\n",
       "      <th>entry_page</th>\n",
       "      <th>path_id_set</th>\n",
       "      <th>traffic_type</th>\n",
       "      <th>session_durantion</th>\n",
       "      <th>hits</th>\n",
       "    </tr>\n",
       "  </thead>\n",
       "  <tbody>\n",
       "    <tr>\n",
       "      <th>1</th>\n",
       "      <td>988680</td>\n",
       "      <td>L2</td>\n",
       "      <td>Thursday</td>\n",
       "      <td>22</td>\n",
       "      <td>10</td>\n",
       "      <td>2113</td>\n",
       "      <td>31965;0</td>\n",
       "      <td>2</td>\n",
       "      <td>49</td>\n",
       "      <td>14</td>\n",
       "    </tr>\n",
       "    <tr>\n",
       "      <th>2</th>\n",
       "      <td>988679</td>\n",
       "      <td>L4</td>\n",
       "      <td>Saturday</td>\n",
       "      <td>21</td>\n",
       "      <td>2</td>\n",
       "      <td>2100</td>\n",
       "      <td>0;78464</td>\n",
       "      <td>1</td>\n",
       "      <td>1892</td>\n",
       "      <td>14</td>\n",
       "    </tr>\n",
       "    <tr>\n",
       "      <th>3</th>\n",
       "      <td>988678</td>\n",
       "      <td>L3</td>\n",
       "      <td>Saturday</td>\n",
       "      <td>19</td>\n",
       "      <td>8</td>\n",
       "      <td>2113</td>\n",
       "      <td>51462</td>\n",
       "      <td>6</td>\n",
       "      <td>0</td>\n",
       "      <td>1</td>\n",
       "    </tr>\n",
       "    <tr>\n",
       "      <th>4</th>\n",
       "      <td>988677</td>\n",
       "      <td>L2</td>\n",
       "      <td>Tuesday</td>\n",
       "      <td>6</td>\n",
       "      <td>10</td>\n",
       "      <td>2116</td>\n",
       "      <td>31931;0</td>\n",
       "      <td>1</td>\n",
       "      <td>2</td>\n",
       "      <td>3</td>\n",
       "    </tr>\n",
       "    <tr>\n",
       "      <th>5</th>\n",
       "      <td>988676</td>\n",
       "      <td>L3</td>\n",
       "      <td>Monday</td>\n",
       "      <td>1</td>\n",
       "      <td>8</td>\n",
       "      <td>2100</td>\n",
       "      <td>0</td>\n",
       "      <td>1</td>\n",
       "      <td>0</td>\n",
       "      <td>2</td>\n",
       "    </tr>\n",
       "  </tbody>\n",
       "</table>\n",
       "</div>"
      ],
      "text/plain": [
       "   row_num locale day_of_week  hour_of_day  agent_id  entry_page path_id_set  \\\n",
       "1   988680     L2    Thursday           22        10        2113     31965;0   \n",
       "2   988679     L4    Saturday           21         2        2100     0;78464   \n",
       "3   988678     L3    Saturday           19         8        2113       51462   \n",
       "4   988677     L2     Tuesday            6        10        2116     31931;0   \n",
       "5   988676     L3      Monday            1         8        2100           0   \n",
       "\n",
       "   traffic_type session_durantion hits  \n",
       "1             2                49   14  \n",
       "2             1              1892   14  \n",
       "3             6                 0    1  \n",
       "4             1                 2    3  \n",
       "5             1                 0    2  "
      ]
     },
     "execution_count": 6,
     "metadata": {},
     "output_type": "execute_result"
    }
   ],
   "source": [
    "print(train.shape)\n",
    "train.head()"
   ]
  },
  {
   "cell_type": "code",
   "execution_count": 7,
   "metadata": {},
   "outputs": [
    {
     "name": "stdout",
     "output_type": "stream",
     "text": [
      "(369446, 10)\n"
     ]
    },
    {
     "data": {
      "text/html": [
       "<div>\n",
       "<style scoped>\n",
       "    .dataframe tbody tr th:only-of-type {\n",
       "        vertical-align: middle;\n",
       "    }\n",
       "\n",
       "    .dataframe tbody tr th {\n",
       "        vertical-align: top;\n",
       "    }\n",
       "\n",
       "    .dataframe thead th {\n",
       "        text-align: right;\n",
       "    }\n",
       "</style>\n",
       "<table border=\"1\" class=\"dataframe\">\n",
       "  <thead>\n",
       "    <tr style=\"text-align: right;\">\n",
       "      <th></th>\n",
       "      <th>row_num</th>\n",
       "      <th>locale</th>\n",
       "      <th>day_of_week</th>\n",
       "      <th>hour_of_day</th>\n",
       "      <th>agent_id</th>\n",
       "      <th>entry_page</th>\n",
       "      <th>path_id_set</th>\n",
       "      <th>traffic_type</th>\n",
       "      <th>session_durantion</th>\n",
       "      <th>hits</th>\n",
       "    </tr>\n",
       "  </thead>\n",
       "  <tbody>\n",
       "    <tr>\n",
       "      <th>0</th>\n",
       "      <td>988681</td>\n",
       "      <td>L6</td>\n",
       "      <td>Monday</td>\n",
       "      <td>17</td>\n",
       "      <td>1</td>\n",
       "      <td>2111</td>\n",
       "      <td>31672;0</td>\n",
       "      <td>6</td>\n",
       "      <td>7037</td>\n",
       "      <td>\\N</td>\n",
       "    </tr>\n",
       "    <tr>\n",
       "      <th>15</th>\n",
       "      <td>988666</td>\n",
       "      <td>L3</td>\n",
       "      <td>Thursday</td>\n",
       "      <td>16</td>\n",
       "      <td>10</td>\n",
       "      <td>2700</td>\n",
       "      <td>0;34387;84765</td>\n",
       "      <td>1</td>\n",
       "      <td>5189</td>\n",
       "      <td>\\N</td>\n",
       "    </tr>\n",
       "    <tr>\n",
       "      <th>16</th>\n",
       "      <td>988665</td>\n",
       "      <td>L4</td>\n",
       "      <td>Sunday</td>\n",
       "      <td>16</td>\n",
       "      <td>10</td>\n",
       "      <td>2113</td>\n",
       "      <td>79148;0</td>\n",
       "      <td>4</td>\n",
       "      <td>5</td>\n",
       "      <td>\\N</td>\n",
       "    </tr>\n",
       "    <tr>\n",
       "      <th>17</th>\n",
       "      <td>988664</td>\n",
       "      <td>L3</td>\n",
       "      <td>Tuesday</td>\n",
       "      <td>19</td>\n",
       "      <td>6</td>\n",
       "      <td>2100</td>\n",
       "      <td>0;34602;34604</td>\n",
       "      <td>1</td>\n",
       "      <td>8041</td>\n",
       "      <td>\\N</td>\n",
       "    </tr>\n",
       "    <tr>\n",
       "      <th>18</th>\n",
       "      <td>988663</td>\n",
       "      <td>L3</td>\n",
       "      <td>Friday</td>\n",
       "      <td>20</td>\n",
       "      <td>10</td>\n",
       "      <td>2111</td>\n",
       "      <td>34287;0;60579</td>\n",
       "      <td>2</td>\n",
       "      <td>117</td>\n",
       "      <td>\\N</td>\n",
       "    </tr>\n",
       "  </tbody>\n",
       "</table>\n",
       "</div>"
      ],
      "text/plain": [
       "    row_num locale day_of_week  hour_of_day  agent_id  entry_page  \\\n",
       "0    988681     L6      Monday           17         1        2111   \n",
       "15   988666     L3    Thursday           16        10        2700   \n",
       "16   988665     L4      Sunday           16        10        2113   \n",
       "17   988664     L3     Tuesday           19         6        2100   \n",
       "18   988663     L3      Friday           20        10        2111   \n",
       "\n",
       "      path_id_set  traffic_type session_durantion hits  \n",
       "0         31672;0             6              7037   \\N  \n",
       "15  0;34387;84765             1              5189   \\N  \n",
       "16        79148;0             4                 5   \\N  \n",
       "17  0;34602;34604             1              8041   \\N  \n",
       "18  34287;0;60579             2               117   \\N  "
      ]
     },
     "execution_count": 7,
     "metadata": {},
     "output_type": "execute_result"
    }
   ],
   "source": [
    "print(test.shape)\n",
    "test.head()"
   ]
  },
  {
   "cell_type": "code",
   "execution_count": 8,
   "metadata": {},
   "outputs": [
    {
     "name": "stderr",
     "output_type": "stream",
     "text": [
      "C:\\Users\\Keshav\\Anaconda3\\envs\\tf_py36\\lib\\site-packages\\pandas\\core\\frame.py:3140: SettingWithCopyWarning: \n",
      "A value is trying to be set on a copy of a slice from a DataFrame.\n",
      "Try using .loc[row_indexer,col_indexer] = value instead\n",
      "\n",
      "See the caveats in the documentation: http://pandas.pydata.org/pandas-docs/stable/indexing.html#indexing-view-versus-copy\n",
      "  self[k1] = value[k2]\n"
     ]
    }
   ],
   "source": [
    "train[['hits']]  = train[['hits']].astype(int, copy=False)"
   ]
  },
  {
   "cell_type": "code",
   "execution_count": 9,
   "metadata": {},
   "outputs": [
    {
     "data": {
      "text/plain": [
       "(619235, 10)"
      ]
     },
     "execution_count": 9,
     "metadata": {},
     "output_type": "execute_result"
    }
   ],
   "source": [
    "train.shape"
   ]
  },
  {
   "cell_type": "markdown",
   "metadata": {},
   "source": [
    "There are totally 147 different categories in total, of which only 137 are present in train set. Which again means that for the new 10 values that occur in test set would be hard to analyze.\n",
    "From the data and above plot it is clear that 98% of the data fall into 10 of the categories. "
   ]
  },
  {
   "cell_type": "code",
   "execution_count": 10,
   "metadata": {
    "scrolled": true
   },
   "outputs": [
    {
     "data": {
      "text/plain": [
       "2113    205968\n",
       "2116    125338\n",
       "2100    110762\n",
       "2111     51932\n",
       "2114     44589\n",
       "2700     38823\n",
       "8001     10867\n",
       "2115     10655\n",
       "2226      6400\n",
       "2316      2012\n",
       "2227      1821\n",
       "2142      1275\n",
       "2391       996\n",
       "2704       808\n",
       "2317       652\n",
       "2370       605\n",
       "2707       488\n",
       "2365       455\n",
       "8101       419\n",
       "2166       322\n",
       "2358       307\n",
       "2146       284\n",
       "2306       243\n",
       "2775       223\n",
       "2170       187\n",
       "2371       146\n",
       "2119       144\n",
       "2283       144\n",
       "2257       143\n",
       "2181       132\n",
       "         ...  \n",
       "2844         2\n",
       "2353         2\n",
       "2135         2\n",
       "2713         2\n",
       "2130         1\n",
       "2443         1\n",
       "2136         1\n",
       "2449         1\n",
       "2311         1\n",
       "2892         1\n",
       "2848         1\n",
       "2812         1\n",
       "2794         1\n",
       "2778         1\n",
       "2503         1\n",
       "2840         1\n",
       "2843         1\n",
       "2761         1\n",
       "2753         1\n",
       "2851         1\n",
       "2168         1\n",
       "2733         1\n",
       "2728         1\n",
       "2727         1\n",
       "2850         1\n",
       "2721         1\n",
       "2712         1\n",
       "2356         1\n",
       "2172         1\n",
       "2202         1\n",
       "Name: entry_page, Length: 137, dtype: int64"
      ]
     },
     "execution_count": 10,
     "metadata": {},
     "output_type": "execute_result"
    }
   ],
   "source": [
    "train['entry_page'].value_counts()#[:10].sum()"
   ]
  },
  {
   "cell_type": "code",
   "execution_count": 11,
   "metadata": {},
   "outputs": [],
   "source": [
    "# plt.se"
   ]
  },
  {
   "cell_type": "code",
   "execution_count": 12,
   "metadata": {},
   "outputs": [
    {
     "data": {
      "image/png": "[encoded data removed]",
      "text/plain": [
       "<Figure size 432x288 with 1 Axes>"
      ]
     },
     "metadata": {
      "needs_background": "light"
     },
     "output_type": "display_data"
    }
   ],
   "source": [
    "fig,ax = plt.subplots()\n",
    "#ax.bar(first_ten['locale'], width=0.2, height = 5)\n",
    "ax.hist(train['agent_id'],15, (0,15))\n",
    "ax.set_xlabel(\"Agent_IDs\")\n",
    "ax.set_ylabel(\"Counts\")\n",
    "ax.set_title('Agent ID counts Train')\n",
    "plt.show()"
   ]
  },
  {
   "cell_type": "markdown",
   "metadata": {},
   "source": [
    "There are 16 agent ids, where the id “6” is not present in the test set. Which would cause difficult to get accurate predictions for those results. From the table it can also be seen that around 5 of the ids can be considered as outliers"
   ]
  },
  {
   "cell_type": "code",
   "execution_count": 13,
   "metadata": {},
   "outputs": [
    {
     "data": {
      "image/png": "[encoded data removed]",
      "text/plain": [
       "<Figure size 432x288 with 1 Axes>"
      ]
     },
     "metadata": {
      "needs_background": "light"
     },
     "output_type": "display_data"
    }
   ],
   "source": [
    "fig,ax = plt.subplots()\n",
    "#ax.bar(first_ten['locale'], width=0.2, height = 5)\n",
    "ax.hist(test['agent_id'],15, (0,15))\n",
    "ax.set_xlabel(\"Agent_IDs\")\n",
    "ax.set_ylabel(\"Counts\")\n",
    "ax.set_title('Agent ID counts Test')\n",
    "plt.show()"
   ]
  },
  {
   "cell_type": "markdown",
   "metadata": {},
   "source": [
    "The entry page data was encoded with dummy variables for easier visualization"
   ]
  },
  {
   "cell_type": "code",
   "execution_count": 14,
   "metadata": {},
   "outputs": [
    {
     "data": {
      "text/plain": [
       "array([2, 0, 2, ..., 2, 2, 5], dtype=int64)"
      ]
     },
     "execution_count": 14,
     "metadata": {},
     "output_type": "execute_result"
    }
   ],
   "source": [
    "encoder = LabelEncoder()\n",
    "X_train_cat = train['entry_page']\n",
    "X_train_cat_encoded = encoder.fit_transform(X_train_cat)\n",
    "X_train_cat_encoded"
   ]
  },
  {
   "cell_type": "code",
   "execution_count": 15,
   "metadata": {},
   "outputs": [
    {
     "data": {
      "text/plain": [
       "(147,)"
      ]
     },
     "execution_count": 15,
     "metadata": {},
     "output_type": "execute_result"
    }
   ],
   "source": [
    "encoder = LabelEncoder()\n",
    "X_test_cat = df['entry_page']\n",
    "X_test_cat_encoded = encoder.fit_transform(X_test_cat)\n",
    "np.unique(X_test_cat_encoded).shape"
   ]
  },
  {
   "cell_type": "code",
   "execution_count": 16,
   "metadata": {},
   "outputs": [
    {
     "data": {
      "image/png": "[encoded data removed]",
      "text/plain": [
       "<Figure size 432x288 with 1 Axes>"
      ]
     },
     "metadata": {
      "needs_background": "light"
     },
     "output_type": "display_data"
    }
   ],
   "source": [
    "fig,ax = plt.subplots()\n",
    "ax.hist(X_train_cat_encoded,137, (0,137))\n",
    "ax.set_xlabel(\"Entry Page dummy values\")\n",
    "ax.set_ylabel(\"Counts\")\n",
    "ax.set_title('Entry Page counts Train')\n",
    "plt.show()"
   ]
  },
  {
   "cell_type": "code",
   "execution_count": 17,
   "metadata": {},
   "outputs": [
    {
     "data": {
      "image/png": "[encoded data removed]",
      "text/plain": [
       "<Figure size 432x288 with 1 Axes>"
      ]
     },
     "metadata": {
      "needs_background": "light"
     },
     "output_type": "display_data"
    }
   ],
   "source": [
    "fig,ax = plt.subplots()\n",
    "ax.hist(X_test_cat_encoded,147, (0,147))\n",
    "ax.set_xlabel(\"Entry Page dummy values\")\n",
    "ax.set_ylabel(\"Counts\")\n",
    "ax.set_title('Entry Page counts')\n",
    "plt.show()"
   ]
  },
  {
   "cell_type": "code",
   "execution_count": 18,
   "metadata": {},
   "outputs": [
    {
     "data": {
      "image/png": "[encoded data removed]",
      "text/plain": [
       "<Figure size 432x288 with 1 Axes>"
      ]
     },
     "metadata": {
      "needs_background": "light"
     },
     "output_type": "display_data"
    }
   ],
   "source": [
    "fig,ax = plt.subplots()\n",
    "ax.hist(train['traffic_type'],10, (1,10))\n",
    "ax.set_xlabel(\"Traffic Type\")\n",
    "ax.set_ylabel(\"Counts\")\n",
    "ax.set_title('Traffic Type counts')\n",
    "plt.show()"
   ]
  },
  {
   "cell_type": "code",
   "execution_count": 19,
   "metadata": {},
   "outputs": [
    {
     "data": {
      "image/png": "[encoded data removed]",
      "text/plain": [
       "<Figure size 432x288 with 1 Axes>"
      ]
     },
     "metadata": {
      "needs_background": "light"
     },
     "output_type": "display_data"
    }
   ],
   "source": [
    "fig,ax = plt.subplots()\n",
    "ax.hist(test['traffic_type'],10, (1,10))\n",
    "ax.set_xlabel(\"Traffic Type\")\n",
    "ax.set_ylabel(\"Counts\")\n",
    "ax.set_title('Traffic Type counts')\n",
    "plt.show()"
   ]
  },
  {
   "cell_type": "code",
   "execution_count": 20,
   "metadata": {},
   "outputs": [
    {
     "name": "stdout",
     "output_type": "stream",
     "text": [
      "Unique Ids with train data: 28216\n"
     ]
    }
   ],
   "source": [
    "path_id_train= train.loc[train[\"path_id_set\"].notnull(),\"path_id_set\"].str.split(';').tolist()\n",
    "ids = {}\n",
    "ids_rep=[]\n",
    "for path_split in path_id_train:\n",
    "    for split in path_split:\n",
    "        ids_rep.append(split)\n",
    "        if split in ids:\n",
    "            ids[split]+=1\n",
    "        else:\n",
    "            ids[split]=1\n",
    "print(\"Unique Ids with train data:\",len(ids))"
   ]
  },
  {
   "cell_type": "code",
   "execution_count": 21,
   "metadata": {},
   "outputs": [
    {
     "name": "stdout",
     "output_type": "stream",
     "text": [
      "Unique Ids with train and test data: 33215\n"
     ]
    }
   ],
   "source": [
    "path_id_test= test.loc[test[\"path_id_set\"].notnull(),\"path_id_set\"].str.split(';').tolist()\n",
    "for path_split in path_id_test:\n",
    "    for split in path_split:\n",
    "        if split in ids:\n",
    "            ids[split]+=1\n",
    "        else:\n",
    "            ids[split]=1\n",
    "print(\"Unique Ids with train and test data:\",len(ids))"
   ]
  },
  {
   "cell_type": "markdown",
   "metadata": {},
   "source": [
    "The path id data has multiple values in each column. These values are not continuous data, in total there are 33215 separate values or categories, of which only 28216 ever come in the train data (There are 3153 null values, which are not considered here for now). The data was found from above code"
   ]
  },
  {
   "cell_type": "code",
   "execution_count": 22,
   "metadata": {},
   "outputs": [],
   "source": [
    "sorted_by_value = sorted(ids.items(), key=lambda kv: kv[1], reverse=True)"
   ]
  },
  {
   "cell_type": "code",
   "execution_count": 23,
   "metadata": {},
   "outputs": [],
   "source": [
    "a=[]\n",
    "b=[]\n",
    "for k,v in enumerate(sorted_by_value):\n",
    "    a.append(int(k))\n",
    "    b.append(v[1])\n",
    "    "
   ]
  },
  {
   "cell_type": "code",
   "execution_count": 24,
   "metadata": {},
   "outputs": [
    {
     "data": {
      "image/png": "[encoded data removed]",
      "text/plain": [
       "<Figure size 1080x360 with 1 Axes>"
      ]
     },
     "metadata": {
      "needs_background": "light"
     },
     "output_type": "display_data"
    }
   ],
   "source": [
    "fig,ax = plt.subplots(figsize=(15,5))\n",
    "ax.bar(a[:20],b[:20])\n",
    "ax.set_xlabel(\"Set id Path\")\n",
    "ax.set_ylabel(\"Counts\")\n",
    "ax.set_title('Total Set ID Paths')\n",
    "plt.show()"
   ]
  },
  {
   "cell_type": "code",
   "execution_count": 25,
   "metadata": {},
   "outputs": [
    {
     "data": {
      "text/html": [
       "<div>\n",
       "<style scoped>\n",
       "    .dataframe tbody tr th:only-of-type {\n",
       "        vertical-align: middle;\n",
       "    }\n",
       "\n",
       "    .dataframe tbody tr th {\n",
       "        vertical-align: top;\n",
       "    }\n",
       "\n",
       "    .dataframe thead th {\n",
       "        text-align: right;\n",
       "    }\n",
       "</style>\n",
       "<table border=\"1\" class=\"dataframe\">\n",
       "  <thead>\n",
       "    <tr style=\"text-align: right;\">\n",
       "      <th></th>\n",
       "      <th>path_1</th>\n",
       "      <th>path_2</th>\n",
       "      <th>path_3</th>\n",
       "      <th>path_4</th>\n",
       "      <th>path_5</th>\n",
       "      <th>no_of_ids</th>\n",
       "    </tr>\n",
       "  </thead>\n",
       "  <tbody>\n",
       "    <tr>\n",
       "      <th>1</th>\n",
       "      <td>31965</td>\n",
       "      <td>0</td>\n",
       "      <td>-1</td>\n",
       "      <td>-1</td>\n",
       "      <td>-1</td>\n",
       "      <td>2.0</td>\n",
       "    </tr>\n",
       "    <tr>\n",
       "      <th>2</th>\n",
       "      <td>0</td>\n",
       "      <td>78464</td>\n",
       "      <td>-1</td>\n",
       "      <td>-1</td>\n",
       "      <td>-1</td>\n",
       "      <td>2.0</td>\n",
       "    </tr>\n",
       "    <tr>\n",
       "      <th>3</th>\n",
       "      <td>51462</td>\n",
       "      <td>-1</td>\n",
       "      <td>-1</td>\n",
       "      <td>-1</td>\n",
       "      <td>-1</td>\n",
       "      <td>1.0</td>\n",
       "    </tr>\n",
       "    <tr>\n",
       "      <th>4</th>\n",
       "      <td>31931</td>\n",
       "      <td>0</td>\n",
       "      <td>-1</td>\n",
       "      <td>-1</td>\n",
       "      <td>-1</td>\n",
       "      <td>2.0</td>\n",
       "    </tr>\n",
       "    <tr>\n",
       "      <th>5</th>\n",
       "      <td>0</td>\n",
       "      <td>-1</td>\n",
       "      <td>-1</td>\n",
       "      <td>-1</td>\n",
       "      <td>-1</td>\n",
       "      <td>1.0</td>\n",
       "    </tr>\n",
       "  </tbody>\n",
       "</table>\n",
       "</div>"
      ],
      "text/plain": [
       "   path_1  path_2  path_3  path_4  path_5  no_of_ids\n",
       "1   31965       0      -1      -1      -1        2.0\n",
       "2       0   78464      -1      -1      -1        2.0\n",
       "3   51462      -1      -1      -1      -1        1.0\n",
       "4   31931       0      -1      -1      -1        2.0\n",
       "5       0      -1      -1      -1      -1        1.0"
      ]
     },
     "execution_count": 25,
     "metadata": {},
     "output_type": "execute_result"
    }
   ],
   "source": [
    "path = train[\"path_id_set\"].str.split(';', n=5,expand=True)\n",
    "path['no_of_ids']=train['path_id_set'].str.split(';')\n",
    "path['no_of_ids']=path['no_of_ids'].str.len()\n",
    "path.drop(axis=1, columns=5,inplace=True)\n",
    "path.columns = ['path_1','path_2','path_3','path_4','path_5','no_of_ids'] \n",
    "#path.no_of_ids.fillna(0,inplace=True)\n",
    "path.fillna(-1,inplace=True)\n",
    "path[['path_1','path_2','path_3','path_4','path_5']]=path[['path_1','path_2','path_3','path_4','path_5']].astype(int)\n",
    "path.head()"
   ]
  },
  {
   "cell_type": "code",
   "execution_count": 26,
   "metadata": {
    "scrolled": true
   },
   "outputs": [
    {
     "data": {
      "text/plain": [
       " 0         133690\n",
       " 38715       9899\n",
       " 34741       6829\n",
       " 34812       6297\n",
       " 78506       4838\n",
       " 34227       4647\n",
       " 78509       4269\n",
       " 31490       3777\n",
       " 8514        3751\n",
       " 34390       3713\n",
       " 32027       3545\n",
       " 78622       3479\n",
       " 32042       3343\n",
       " 44310       3294\n",
       " 31965       3285\n",
       " 34961       3217\n",
       " 46814       3179\n",
       "-1           3153\n",
       " 36103       2871\n",
       " 9644        2545\n",
       " 31672       2466\n",
       " 79454       2378\n",
       " 51462       2226\n",
       " 44337       1948\n",
       " 78598       1764\n",
       " 79447       1749\n",
       " 655         1747\n",
       " 44314       1667\n",
       " 35094       1514\n",
       " 31909       1497\n",
       "            ...  \n",
       " 82671          1\n",
       " 15790          1\n",
       " 88812          1\n",
       " 4008           1\n",
       " 45777          1\n",
       " 585908         1\n",
       " 10946          1\n",
       " 172691         1\n",
       " 348781         1\n",
       " 355946         1\n",
       " 81294          1\n",
       " 510800         1\n",
       " 43964          1\n",
       " 443249         1\n",
       " 74476          1\n",
       " 5035           1\n",
       " 37819          1\n",
       " 119026         1\n",
       " 43229          1\n",
       " 39131          1\n",
       " 200            1\n",
       " 73098          1\n",
       " 135306         1\n",
       " 352356         1\n",
       " 638960         1\n",
       " 128761         1\n",
       " 69350          1\n",
       " 484677         1\n",
       " 441726         1\n",
       " 4094           1\n",
       "Name: path_1, Length: 21879, dtype: int64"
      ]
     },
     "execution_count": 26,
     "metadata": {},
     "output_type": "execute_result"
    }
   ],
   "source": [
    "path['path_1'].value_counts()"
   ]
  },
  {
   "cell_type": "code",
   "execution_count": 27,
   "metadata": {},
   "outputs": [
    {
     "data": {
      "image/png": "[encoded data removed]",
      "text/plain": [
       "<Figure size 1080x288 with 1 Axes>"
      ]
     },
     "metadata": {
      "needs_background": "light"
     },
     "output_type": "display_data"
    }
   ],
   "source": [
    "fig,ax = plt.subplots(figsize=(15,4))\n",
    "ax.hist(path['path_1'],200, (0,700000))\n",
    "ax.set_xlabel(\"Path 1\")\n",
    "ax.set_ylabel(\"Counts\")\n",
    "ax.set_title('Path_1 counts')\n",
    "plt.show()"
   ]
  },
  {
   "cell_type": "markdown",
   "metadata": {},
   "source": [
    "If we plot the values in Path_1, it can be seen majority values are 0’s. The next high point we see is a combination of many categories, which are shown as one as it’s a Histogram."
   ]
  },
  {
   "cell_type": "code",
   "execution_count": 28,
   "metadata": {},
   "outputs": [],
   "source": [
    "session_durantion_N = train[train['session_durantion']=='\\\\N']\n",
    "session_durantion = train[train['session_durantion']!='\\\\N']\n",
    "session_durantion[['session_durantion']]  = session_durantion[['session_durantion']].astype(int)"
   ]
  },
  {
   "cell_type": "code",
   "execution_count": 29,
   "metadata": {},
   "outputs": [
    {
     "data": {
      "text/plain": [
       "row_num               int64\n",
       "locale               object\n",
       "day_of_week          object\n",
       "hour_of_day           int64\n",
       "agent_id              int64\n",
       "entry_page            int64\n",
       "path_id_set          object\n",
       "traffic_type          int64\n",
       "session_durantion     int32\n",
       "hits                  int32\n",
       "dtype: object"
      ]
     },
     "execution_count": 29,
     "metadata": {},
     "output_type": "execute_result"
    }
   ],
   "source": [
    "session_durantion.dtypes"
   ]
  },
  {
   "cell_type": "markdown",
   "metadata": {},
   "source": [
    "The session duration is a continuous data. There is some missing data in the session duration column. On analyzing the above scatter plot we can see a pattern that none of the sessions crossed the 24 hour from hour of day. So when this happened it could have got a null value. (\"session_duration\"<(24-\"hour_of_day\")x60x60).\n",
    " \n"
   ]
  },
  {
   "cell_type": "code",
   "execution_count": 30,
   "metadata": {},
   "outputs": [
    {
     "data": {
      "image/png": "[encoded data removed]",
      "text/plain": [
       "<Figure size 504x504 with 1 Axes>"
      ]
     },
     "metadata": {
      "needs_background": "light"
     },
     "output_type": "display_data"
    }
   ],
   "source": [
    "fig,ax = plt.subplots(figsize=(7,7))\n",
    "ax.scatter(session_durantion['session_durantion'],session_durantion['hour_of_day'])\n",
    "ax.set_xlabel(\"Session Duration in Hours\")\n",
    "ax.set_ylabel(\"Hour of Day\")\n",
    "ax.set_xticklabels([-1,0,5,10,15,20,24])\n",
    "ax.set_yticklabels([-1,0,5,10,15,20,24])\n",
    "#ax.set_xlim(-1,24)\n",
    "plt.show()"
   ]
  },
  {
   "cell_type": "code",
   "execution_count": null,
   "metadata": {},
   "outputs": [],
   "source": []
  },
  {
   "cell_type": "code",
   "execution_count": null,
   "metadata": {},
   "outputs": [],
   "source": []
  }
 ],
 "metadata": {
  "kernelspec": {
   "display_name": "Python [conda env:tf_py36]",
   "language": "python",
   "name": "conda-env-tf_py36-py"
  },
  "language_info": {
   "codemirror_mode": {
    "name": "ipython",
    "version": 3
   },
   "file_extension": ".py",
   "mimetype": "text/x-python",
   "name": "python",
   "nbconvert_exporter": "python",
   "pygments_lexer": "ipython3",
   "version": "3.6.6"
  }
 },
 "nbformat": 4,
 "nbformat_minor": 2
}
